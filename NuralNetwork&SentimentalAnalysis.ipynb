{
  "cells": [
    {
      "cell_type": "code",
      "execution_count": null,
      "id": "e3d08723",
      "metadata": {
        "id": "e3d08723",
        "outputId": "fdde1c95-6c17-4ce0-ff1e-bda12a2bd7f9"
      },
      "outputs": [
        {
          "name": "stdout",
          "output_type": "stream",
          "text": [
            "Collecting tensorflow\n",
            "  Using cached tensorflow-2.15.0-cp39-cp39-win_amd64.whl (2.1 kB)\n",
            "Collecting tensorflow-intel==2.15.0\n",
            "  Using cached tensorflow_intel-2.15.0-cp39-cp39-win_amd64.whl (300.8 MB)\n",
            "Collecting opt-einsum>=2.3.2\n",
            "  Using cached opt_einsum-3.3.0-py3-none-any.whl (65 kB)\n",
            "Collecting tensorboard<2.16,>=2.15\n",
            "  Using cached tensorboard-2.15.1-py3-none-any.whl (5.5 MB)\n",
            "Requirement already satisfied: typing-extensions>=3.6.6 in c:\\users\\idrees arshad\\anaconda3\\lib\\site-packages (from tensorflow-intel==2.15.0->tensorflow) (4.3.0)\n",
            "Requirement already satisfied: termcolor>=1.1.0 in c:\\users\\idrees arshad\\anaconda3\\lib\\site-packages (from tensorflow-intel==2.15.0->tensorflow) (2.3.0)\n",
            "Requirement already satisfied: numpy<2.0.0,>=1.23.5 in c:\\users\\idrees arshad\\anaconda3\\lib\\site-packages (from tensorflow-intel==2.15.0->tensorflow) (1.26.2)\n",
            "Collecting astunparse>=1.6.0\n",
            "  Using cached astunparse-1.6.3-py2.py3-none-any.whl (12 kB)\n",
            "Collecting gast!=0.5.0,!=0.5.1,!=0.5.2,>=0.2.1\n",
            "  Using cached gast-0.5.4-py3-none-any.whl (19 kB)\n",
            "Requirement already satisfied: protobuf!=4.21.0,!=4.21.1,!=4.21.2,!=4.21.3,!=4.21.4,!=4.21.5,<5.0.0dev,>=3.20.3 in c:\\users\\idrees arshad\\anaconda3\\lib\\site-packages (from tensorflow-intel==2.15.0->tensorflow) (4.23.4)\n",
            "Requirement already satisfied: libclang>=13.0.0 in c:\\users\\idrees arshad\\anaconda3\\lib\\site-packages (from tensorflow-intel==2.15.0->tensorflow) (16.0.6)\n",
            "Requirement already satisfied: setuptools in c:\\users\\idrees arshad\\anaconda3\\lib\\site-packages (from tensorflow-intel==2.15.0->tensorflow) (63.4.1)\n",
            "Collecting absl-py>=1.0.0\n",
            "  Using cached absl_py-2.0.0-py3-none-any.whl (130 kB)\n",
            "Requirement already satisfied: flatbuffers>=23.5.26 in c:\\users\\idrees arshad\\anaconda3\\lib\\site-packages (from tensorflow-intel==2.15.0->tensorflow) (23.5.26)\n",
            "Requirement already satisfied: wrapt<1.15,>=1.11.0 in c:\\users\\idrees arshad\\anaconda3\\lib\\site-packages (from tensorflow-intel==2.15.0->tensorflow) (1.14.1)\n",
            "Collecting grpcio<2.0,>=1.24.3\n",
            "  Using cached grpcio-1.59.3-cp39-cp39-win_amd64.whl (3.7 MB)\n",
            "Collecting google-pasta>=0.1.1\n",
            "  Using cached google_pasta-0.2.0-py3-none-any.whl (57 kB)\n",
            "Requirement already satisfied: six>=1.12.0 in c:\\users\\idrees arshad\\anaconda3\\lib\\site-packages (from tensorflow-intel==2.15.0->tensorflow) (1.16.0)\n",
            "Requirement already satisfied: tensorflow-io-gcs-filesystem>=0.23.1 in c:\\users\\idrees arshad\\anaconda3\\lib\\site-packages (from tensorflow-intel==2.15.0->tensorflow) (0.31.0)\n",
            "Requirement already satisfied: packaging in c:\\users\\idrees arshad\\anaconda3\\lib\\site-packages (from tensorflow-intel==2.15.0->tensorflow) (21.3)\n",
            "Requirement already satisfied: keras<2.16,>=2.15.0 in c:\\users\\idrees arshad\\anaconda3\\lib\\site-packages (from tensorflow-intel==2.15.0->tensorflow) (2.15.0)\n",
            "Requirement already satisfied: h5py>=2.9.0 in c:\\users\\idrees arshad\\anaconda3\\lib\\site-packages (from tensorflow-intel==2.15.0->tensorflow) (3.7.0)\n",
            "Requirement already satisfied: tensorflow-estimator<2.16,>=2.15.0 in c:\\users\\idrees arshad\\anaconda3\\lib\\site-packages (from tensorflow-intel==2.15.0->tensorflow) (2.15.0)\n",
            "Collecting ml-dtypes~=0.2.0\n",
            "  Using cached ml_dtypes-0.2.0-cp39-cp39-win_amd64.whl (938 kB)\n",
            "Requirement already satisfied: wheel<1.0,>=0.23.0 in c:\\users\\idrees arshad\\anaconda3\\lib\\site-packages (from astunparse>=1.6.0->tensorflow-intel==2.15.0->tensorflow) (0.37.1)\n",
            "Requirement already satisfied: werkzeug>=1.0.1 in c:\\users\\idrees arshad\\anaconda3\\lib\\site-packages (from tensorboard<2.16,>=2.15->tensorflow-intel==2.15.0->tensorflow) (2.0.3)\n",
            "Requirement already satisfied: markdown>=2.6.8 in c:\\users\\idrees arshad\\anaconda3\\lib\\site-packages (from tensorboard<2.16,>=2.15->tensorflow-intel==2.15.0->tensorflow) (3.3.4)\n",
            "Collecting google-auth-oauthlib<2,>=0.5\n",
            "  Using cached google_auth_oauthlib-1.1.0-py2.py3-none-any.whl (19 kB)\n",
            "Requirement already satisfied: tensorboard-data-server<0.8.0,>=0.7.0 in c:\\users\\idrees arshad\\anaconda3\\lib\\site-packages (from tensorboard<2.16,>=2.15->tensorflow-intel==2.15.0->tensorflow) (0.7.2)\n",
            "Requirement already satisfied: requests<3,>=2.21.0 in c:\\users\\idrees arshad\\anaconda3\\lib\\site-packages (from tensorboard<2.16,>=2.15->tensorflow-intel==2.15.0->tensorflow) (2.28.1)\n",
            "Collecting google-auth<3,>=1.6.3\n",
            "  Using cached google_auth-2.23.4-py2.py3-none-any.whl (183 kB)\n",
            "Requirement already satisfied: pyparsing!=3.0.5,>=2.0.2 in c:\\users\\idrees arshad\\anaconda3\\lib\\site-packages (from packaging->tensorflow-intel==2.15.0->tensorflow) (3.0.9)\n",
            "Requirement already satisfied: pyasn1-modules>=0.2.1 in c:\\users\\idrees arshad\\anaconda3\\lib\\site-packages (from google-auth<3,>=1.6.3->tensorboard<2.16,>=2.15->tensorflow-intel==2.15.0->tensorflow) (0.2.8)\n",
            "Collecting cachetools<6.0,>=2.0.0\n",
            "  Using cached cachetools-5.3.2-py3-none-any.whl (9.3 kB)\n",
            "Requirement already satisfied: rsa<5,>=3.1.4 in c:\\users\\idrees arshad\\anaconda3\\lib\\site-packages (from google-auth<3,>=1.6.3->tensorboard<2.16,>=2.15->tensorflow-intel==2.15.0->tensorflow) (4.9)\n",
            "Collecting requests-oauthlib>=0.7.0\n",
            "  Using cached requests_oauthlib-1.3.1-py2.py3-none-any.whl (23 kB)\n",
            "Requirement already satisfied: idna<4,>=2.5 in c:\\users\\idrees arshad\\anaconda3\\lib\\site-packages (from requests<3,>=2.21.0->tensorboard<2.16,>=2.15->tensorflow-intel==2.15.0->tensorflow) (3.3)\n",
            "Requirement already satisfied: urllib3<1.27,>=1.21.1 in c:\\users\\idrees arshad\\anaconda3\\lib\\site-packages (from requests<3,>=2.21.0->tensorboard<2.16,>=2.15->tensorflow-intel==2.15.0->tensorflow) (1.26.11)\n",
            "Requirement already satisfied: charset-normalizer<3,>=2 in c:\\users\\idrees arshad\\anaconda3\\lib\\site-packages (from requests<3,>=2.21.0->tensorboard<2.16,>=2.15->tensorflow-intel==2.15.0->tensorflow) (2.0.4)\n",
            "Requirement already satisfied: certifi>=2017.4.17 in c:\\users\\idrees arshad\\anaconda3\\lib\\site-packages (from requests<3,>=2.21.0->tensorboard<2.16,>=2.15->tensorflow-intel==2.15.0->tensorflow) (2022.9.14)\n",
            "Requirement already satisfied: pyasn1<0.5.0,>=0.4.6 in c:\\users\\idrees arshad\\anaconda3\\lib\\site-packages (from pyasn1-modules>=0.2.1->google-auth<3,>=1.6.3->tensorboard<2.16,>=2.15->tensorflow-intel==2.15.0->tensorflow) (0.4.8)\n",
            "Requirement already satisfied: oauthlib>=3.0.0 in c:\\users\\idrees arshad\\anaconda3\\lib\\site-packages (from requests-oauthlib>=0.7.0->google-auth-oauthlib<2,>=0.5->tensorboard<2.16,>=2.15->tensorflow-intel==2.15.0->tensorflow) (3.2.2)\n",
            "Installing collected packages: opt-einsum, ml-dtypes, grpcio, google-pasta, gast, cachetools, astunparse, absl-py, requests-oauthlib, google-auth, google-auth-oauthlib, tensorboard, tensorflow-intel, tensorflow\n",
            "Successfully installed absl-py-2.0.0 astunparse-1.6.3 cachetools-5.3.2 gast-0.5.4 google-auth-2.23.4 google-auth-oauthlib-1.1.0 google-pasta-0.2.0 grpcio-1.59.3 ml-dtypes-0.2.0 opt-einsum-3.3.0 requests-oauthlib-1.3.1 tensorboard-2.15.1 tensorflow-2.15.0 tensorflow-intel-2.15.0\n",
            "Note: you may need to restart the kernel to use updated packages.\n"
          ]
        }
      ],
      "source": [
        "pip install tensorflow\n"
      ]
    },
    {
      "cell_type": "code",
      "execution_count": null,
      "id": "7b8c7df6",
      "metadata": {
        "scrolled": false,
        "id": "7b8c7df6",
        "outputId": "44244ca6-57c5-4141-cfb3-cf1088bdc2a7"
      },
      "outputs": [
        {
          "name": "stdout",
          "output_type": "stream",
          "text": [
            "Requirement already satisfied: keras in c:\\users\\idrees arshad\\anaconda3\\lib\\site-packages (2.15.0)Note: you may need to restart the kernel to use updated packages.\n",
            "\n"
          ]
        }
      ],
      "source": [
        "  pip install keras"
      ]
    },
    {
      "cell_type": "code",
      "execution_count": null,
      "id": "01b17442",
      "metadata": {
        "id": "01b17442"
      },
      "outputs": [],
      "source": [
        "import pandas as pd\n",
        "from sklearn.model_selection import train_test_split\n",
        "from sklearn.preprocessing import StandardScaler, LabelEncoder, OneHotEncoder\n",
        "from sklearn.metrics import confusion_matrix"
      ]
    },
    {
      "cell_type": "code",
      "execution_count": null,
      "id": "9b4caa28",
      "metadata": {
        "id": "9b4caa28",
        "outputId": "7d7a6671-1f93-49a3-c61f-be371f022b09"
      },
      "outputs": [
        {
          "name": "stdout",
          "output_type": "stream",
          "text": [
            "   RowNumber  CustomerId   Surname  CreditScore Geography  Gender  Age  \\\n",
            "0          1    15634602  Hargrave          619    France  Female   42   \n",
            "1          2    15647311      Hill          608     Spain  Female   41   \n",
            "2          3    15619304      Onio          502    France  Female   42   \n",
            "3          4    15701354      Boni          699    France  Female   39   \n",
            "4          5    15737888  Mitchell          850     Spain  Female   43   \n",
            "\n",
            "   Tenure    Balance  NumOfProducts  HasCrCard  IsActiveMember  \\\n",
            "0       2       0.00              1          1               1   \n",
            "1       1   83807.86              1          0               1   \n",
            "2       8  159660.80              3          1               0   \n",
            "3       1       0.00              2          0               0   \n",
            "4       2  125510.82              1          1               1   \n",
            "\n",
            "   EstimatedSalary  Exited  \n",
            "0        101348.88       1  \n",
            "1        112542.58       0  \n",
            "2        113931.57       1  \n",
            "3         93826.63       0  \n",
            "4         79084.10       0  \n"
          ]
        }
      ],
      "source": [
        "data = pd.read_csv('Churn_Modelling.csv')\n",
        "\n",
        "print(data.head())"
      ]
    },
    {
      "cell_type": "code",
      "execution_count": null,
      "id": "952ca2a9",
      "metadata": {
        "id": "952ca2a9"
      },
      "outputs": [],
      "source": [
        "import numpy as np\n",
        "from sklearn.compose import ColumnTransformer\n",
        "from keras.models import Sequential\n",
        "from keras.layers import Dense"
      ]
    },
    {
      "cell_type": "code",
      "execution_count": null,
      "id": "70ac6fdb",
      "metadata": {
        "id": "70ac6fdb"
      },
      "outputs": [],
      "source": [
        "import tensorflow as tf\n",
        "import seaborn as sns\n",
        "import matplotlib.pyplot as plt"
      ]
    },
    {
      "cell_type": "code",
      "execution_count": null,
      "id": "4eb45039",
      "metadata": {
        "id": "4eb45039"
      },
      "outputs": [],
      "source": [
        "def label_encode_gender(gender):\n",
        "    return 1 if gender == \"Male\" else 0"
      ]
    },
    {
      "cell_type": "code",
      "execution_count": null,
      "id": "b353879c",
      "metadata": {
        "id": "b353879c",
        "outputId": "614039b0-6d21-47ab-8673-840c1b292a4d"
      },
      "outputs": [
        {
          "data": {
            "text/html": [
              "<div>\n",
              "<style scoped>\n",
              "    .dataframe tbody tr th:only-of-type {\n",
              "        vertical-align: middle;\n",
              "    }\n",
              "\n",
              "    .dataframe tbody tr th {\n",
              "        vertical-align: top;\n",
              "    }\n",
              "\n",
              "    .dataframe thead th {\n",
              "        text-align: right;\n",
              "    }\n",
              "</style>\n",
              "<table border=\"1\" class=\"dataframe\">\n",
              "  <thead>\n",
              "    <tr style=\"text-align: right;\">\n",
              "      <th></th>\n",
              "      <th>RowNumber</th>\n",
              "      <th>CustomerId</th>\n",
              "      <th>Surname</th>\n",
              "      <th>CreditScore</th>\n",
              "      <th>Geography</th>\n",
              "      <th>Gender</th>\n",
              "      <th>Age</th>\n",
              "      <th>Tenure</th>\n",
              "      <th>Balance</th>\n",
              "      <th>NumOfProducts</th>\n",
              "      <th>HasCrCard</th>\n",
              "      <th>IsActiveMember</th>\n",
              "      <th>EstimatedSalary</th>\n",
              "      <th>Exited</th>\n",
              "      <th>Gender_encoded</th>\n",
              "    </tr>\n",
              "  </thead>\n",
              "  <tbody>\n",
              "    <tr>\n",
              "      <th>0</th>\n",
              "      <td>1</td>\n",
              "      <td>15634602</td>\n",
              "      <td>Hargrave</td>\n",
              "      <td>619</td>\n",
              "      <td>France</td>\n",
              "      <td>Female</td>\n",
              "      <td>42</td>\n",
              "      <td>2</td>\n",
              "      <td>0.00</td>\n",
              "      <td>1</td>\n",
              "      <td>1</td>\n",
              "      <td>1</td>\n",
              "      <td>101348.88</td>\n",
              "      <td>1</td>\n",
              "      <td>0</td>\n",
              "    </tr>\n",
              "    <tr>\n",
              "      <th>1</th>\n",
              "      <td>2</td>\n",
              "      <td>15647311</td>\n",
              "      <td>Hill</td>\n",
              "      <td>608</td>\n",
              "      <td>Spain</td>\n",
              "      <td>Female</td>\n",
              "      <td>41</td>\n",
              "      <td>1</td>\n",
              "      <td>83807.86</td>\n",
              "      <td>1</td>\n",
              "      <td>0</td>\n",
              "      <td>1</td>\n",
              "      <td>112542.58</td>\n",
              "      <td>0</td>\n",
              "      <td>0</td>\n",
              "    </tr>\n",
              "    <tr>\n",
              "      <th>2</th>\n",
              "      <td>3</td>\n",
              "      <td>15619304</td>\n",
              "      <td>Onio</td>\n",
              "      <td>502</td>\n",
              "      <td>France</td>\n",
              "      <td>Female</td>\n",
              "      <td>42</td>\n",
              "      <td>8</td>\n",
              "      <td>159660.80</td>\n",
              "      <td>3</td>\n",
              "      <td>1</td>\n",
              "      <td>0</td>\n",
              "      <td>113931.57</td>\n",
              "      <td>1</td>\n",
              "      <td>0</td>\n",
              "    </tr>\n",
              "    <tr>\n",
              "      <th>3</th>\n",
              "      <td>4</td>\n",
              "      <td>15701354</td>\n",
              "      <td>Boni</td>\n",
              "      <td>699</td>\n",
              "      <td>France</td>\n",
              "      <td>Female</td>\n",
              "      <td>39</td>\n",
              "      <td>1</td>\n",
              "      <td>0.00</td>\n",
              "      <td>2</td>\n",
              "      <td>0</td>\n",
              "      <td>0</td>\n",
              "      <td>93826.63</td>\n",
              "      <td>0</td>\n",
              "      <td>0</td>\n",
              "    </tr>\n",
              "    <tr>\n",
              "      <th>4</th>\n",
              "      <td>5</td>\n",
              "      <td>15737888</td>\n",
              "      <td>Mitchell</td>\n",
              "      <td>850</td>\n",
              "      <td>Spain</td>\n",
              "      <td>Female</td>\n",
              "      <td>43</td>\n",
              "      <td>2</td>\n",
              "      <td>125510.82</td>\n",
              "      <td>1</td>\n",
              "      <td>1</td>\n",
              "      <td>1</td>\n",
              "      <td>79084.10</td>\n",
              "      <td>0</td>\n",
              "      <td>0</td>\n",
              "    </tr>\n",
              "    <tr>\n",
              "      <th>...</th>\n",
              "      <td>...</td>\n",
              "      <td>...</td>\n",
              "      <td>...</td>\n",
              "      <td>...</td>\n",
              "      <td>...</td>\n",
              "      <td>...</td>\n",
              "      <td>...</td>\n",
              "      <td>...</td>\n",
              "      <td>...</td>\n",
              "      <td>...</td>\n",
              "      <td>...</td>\n",
              "      <td>...</td>\n",
              "      <td>...</td>\n",
              "      <td>...</td>\n",
              "      <td>...</td>\n",
              "    </tr>\n",
              "    <tr>\n",
              "      <th>9995</th>\n",
              "      <td>9996</td>\n",
              "      <td>15606229</td>\n",
              "      <td>Obijiaku</td>\n",
              "      <td>771</td>\n",
              "      <td>France</td>\n",
              "      <td>Male</td>\n",
              "      <td>39</td>\n",
              "      <td>5</td>\n",
              "      <td>0.00</td>\n",
              "      <td>2</td>\n",
              "      <td>1</td>\n",
              "      <td>0</td>\n",
              "      <td>96270.64</td>\n",
              "      <td>0</td>\n",
              "      <td>1</td>\n",
              "    </tr>\n",
              "    <tr>\n",
              "      <th>9996</th>\n",
              "      <td>9997</td>\n",
              "      <td>15569892</td>\n",
              "      <td>Johnstone</td>\n",
              "      <td>516</td>\n",
              "      <td>France</td>\n",
              "      <td>Male</td>\n",
              "      <td>35</td>\n",
              "      <td>10</td>\n",
              "      <td>57369.61</td>\n",
              "      <td>1</td>\n",
              "      <td>1</td>\n",
              "      <td>1</td>\n",
              "      <td>101699.77</td>\n",
              "      <td>0</td>\n",
              "      <td>1</td>\n",
              "    </tr>\n",
              "    <tr>\n",
              "      <th>9997</th>\n",
              "      <td>9998</td>\n",
              "      <td>15584532</td>\n",
              "      <td>Liu</td>\n",
              "      <td>709</td>\n",
              "      <td>France</td>\n",
              "      <td>Female</td>\n",
              "      <td>36</td>\n",
              "      <td>7</td>\n",
              "      <td>0.00</td>\n",
              "      <td>1</td>\n",
              "      <td>0</td>\n",
              "      <td>1</td>\n",
              "      <td>42085.58</td>\n",
              "      <td>1</td>\n",
              "      <td>0</td>\n",
              "    </tr>\n",
              "    <tr>\n",
              "      <th>9998</th>\n",
              "      <td>9999</td>\n",
              "      <td>15682355</td>\n",
              "      <td>Sabbatini</td>\n",
              "      <td>772</td>\n",
              "      <td>Germany</td>\n",
              "      <td>Male</td>\n",
              "      <td>42</td>\n",
              "      <td>3</td>\n",
              "      <td>75075.31</td>\n",
              "      <td>2</td>\n",
              "      <td>1</td>\n",
              "      <td>0</td>\n",
              "      <td>92888.52</td>\n",
              "      <td>1</td>\n",
              "      <td>1</td>\n",
              "    </tr>\n",
              "    <tr>\n",
              "      <th>9999</th>\n",
              "      <td>10000</td>\n",
              "      <td>15628319</td>\n",
              "      <td>Walker</td>\n",
              "      <td>792</td>\n",
              "      <td>France</td>\n",
              "      <td>Female</td>\n",
              "      <td>28</td>\n",
              "      <td>4</td>\n",
              "      <td>130142.79</td>\n",
              "      <td>1</td>\n",
              "      <td>1</td>\n",
              "      <td>0</td>\n",
              "      <td>38190.78</td>\n",
              "      <td>0</td>\n",
              "      <td>0</td>\n",
              "    </tr>\n",
              "  </tbody>\n",
              "</table>\n",
              "<p>10000 rows × 15 columns</p>\n",
              "</div>"
            ],
            "text/plain": [
              "      RowNumber  CustomerId    Surname  CreditScore Geography  Gender  Age  \\\n",
              "0             1    15634602   Hargrave          619    France  Female   42   \n",
              "1             2    15647311       Hill          608     Spain  Female   41   \n",
              "2             3    15619304       Onio          502    France  Female   42   \n",
              "3             4    15701354       Boni          699    France  Female   39   \n",
              "4             5    15737888   Mitchell          850     Spain  Female   43   \n",
              "...         ...         ...        ...          ...       ...     ...  ...   \n",
              "9995       9996    15606229   Obijiaku          771    France    Male   39   \n",
              "9996       9997    15569892  Johnstone          516    France    Male   35   \n",
              "9997       9998    15584532        Liu          709    France  Female   36   \n",
              "9998       9999    15682355  Sabbatini          772   Germany    Male   42   \n",
              "9999      10000    15628319     Walker          792    France  Female   28   \n",
              "\n",
              "      Tenure    Balance  NumOfProducts  HasCrCard  IsActiveMember  \\\n",
              "0          2       0.00              1          1               1   \n",
              "1          1   83807.86              1          0               1   \n",
              "2          8  159660.80              3          1               0   \n",
              "3          1       0.00              2          0               0   \n",
              "4          2  125510.82              1          1               1   \n",
              "...      ...        ...            ...        ...             ...   \n",
              "9995       5       0.00              2          1               0   \n",
              "9996      10   57369.61              1          1               1   \n",
              "9997       7       0.00              1          0               1   \n",
              "9998       3   75075.31              2          1               0   \n",
              "9999       4  130142.79              1          1               0   \n",
              "\n",
              "      EstimatedSalary  Exited  Gender_encoded  \n",
              "0           101348.88       1               0  \n",
              "1           112542.58       0               0  \n",
              "2           113931.57       1               0  \n",
              "3            93826.63       0               0  \n",
              "4            79084.10       0               0  \n",
              "...               ...     ...             ...  \n",
              "9995         96270.64       0               1  \n",
              "9996        101699.77       0               1  \n",
              "9997         42085.58       1               0  \n",
              "9998         92888.52       1               1  \n",
              "9999         38190.78       0               0  \n",
              "\n",
              "[10000 rows x 15 columns]"
            ]
          },
          "execution_count": 83,
          "metadata": {},
          "output_type": "execute_result"
        }
      ],
      "source": [
        "data[\"Gender_encoded\"] = data[\"Gender\"].apply(label_encode_gender)\n",
        "data"
      ]
    },
    {
      "cell_type": "code",
      "execution_count": null,
      "id": "8197598f",
      "metadata": {
        "id": "8197598f"
      },
      "outputs": [],
      "source": [
        "def one_hot_encode_geography(geography):\n",
        "    if geography == \"France\":\n",
        "        return [1, 0, 0]\n",
        "    elif geography == \"Spain\":\n",
        "        return [0, 1, 0]\n",
        "    else:\n",
        "        return [0, 0, 1]"
      ]
    },
    {
      "cell_type": "code",
      "execution_count": null,
      "id": "4cc94639",
      "metadata": {
        "id": "4cc94639",
        "outputId": "40f68990-5d37-4bcd-a10f-dc9392b077f0"
      },
      "outputs": [
        {
          "data": {
            "text/html": [
              "<div>\n",
              "<style scoped>\n",
              "    .dataframe tbody tr th:only-of-type {\n",
              "        vertical-align: middle;\n",
              "    }\n",
              "\n",
              "    .dataframe tbody tr th {\n",
              "        vertical-align: top;\n",
              "    }\n",
              "\n",
              "    .dataframe thead th {\n",
              "        text-align: right;\n",
              "    }\n",
              "</style>\n",
              "<table border=\"1\" class=\"dataframe\">\n",
              "  <thead>\n",
              "    <tr style=\"text-align: right;\">\n",
              "      <th></th>\n",
              "      <th>RowNumber</th>\n",
              "      <th>CustomerId</th>\n",
              "      <th>Surname</th>\n",
              "      <th>CreditScore</th>\n",
              "      <th>Geography</th>\n",
              "      <th>Gender</th>\n",
              "      <th>Age</th>\n",
              "      <th>Tenure</th>\n",
              "      <th>Balance</th>\n",
              "      <th>NumOfProducts</th>\n",
              "      <th>HasCrCard</th>\n",
              "      <th>IsActiveMember</th>\n",
              "      <th>EstimatedSalary</th>\n",
              "      <th>Exited</th>\n",
              "      <th>Gender_encoded</th>\n",
              "      <th>Geography_encoded</th>\n",
              "    </tr>\n",
              "  </thead>\n",
              "  <tbody>\n",
              "    <tr>\n",
              "      <th>0</th>\n",
              "      <td>1</td>\n",
              "      <td>15634602</td>\n",
              "      <td>Hargrave</td>\n",
              "      <td>619</td>\n",
              "      <td>France</td>\n",
              "      <td>Female</td>\n",
              "      <td>42</td>\n",
              "      <td>2</td>\n",
              "      <td>0.00</td>\n",
              "      <td>1</td>\n",
              "      <td>1</td>\n",
              "      <td>1</td>\n",
              "      <td>101348.88</td>\n",
              "      <td>1</td>\n",
              "      <td>0</td>\n",
              "      <td>[1, 0, 0]</td>\n",
              "    </tr>\n",
              "    <tr>\n",
              "      <th>1</th>\n",
              "      <td>2</td>\n",
              "      <td>15647311</td>\n",
              "      <td>Hill</td>\n",
              "      <td>608</td>\n",
              "      <td>Spain</td>\n",
              "      <td>Female</td>\n",
              "      <td>41</td>\n",
              "      <td>1</td>\n",
              "      <td>83807.86</td>\n",
              "      <td>1</td>\n",
              "      <td>0</td>\n",
              "      <td>1</td>\n",
              "      <td>112542.58</td>\n",
              "      <td>0</td>\n",
              "      <td>0</td>\n",
              "      <td>[0, 1, 0]</td>\n",
              "    </tr>\n",
              "    <tr>\n",
              "      <th>2</th>\n",
              "      <td>3</td>\n",
              "      <td>15619304</td>\n",
              "      <td>Onio</td>\n",
              "      <td>502</td>\n",
              "      <td>France</td>\n",
              "      <td>Female</td>\n",
              "      <td>42</td>\n",
              "      <td>8</td>\n",
              "      <td>159660.80</td>\n",
              "      <td>3</td>\n",
              "      <td>1</td>\n",
              "      <td>0</td>\n",
              "      <td>113931.57</td>\n",
              "      <td>1</td>\n",
              "      <td>0</td>\n",
              "      <td>[1, 0, 0]</td>\n",
              "    </tr>\n",
              "    <tr>\n",
              "      <th>3</th>\n",
              "      <td>4</td>\n",
              "      <td>15701354</td>\n",
              "      <td>Boni</td>\n",
              "      <td>699</td>\n",
              "      <td>France</td>\n",
              "      <td>Female</td>\n",
              "      <td>39</td>\n",
              "      <td>1</td>\n",
              "      <td>0.00</td>\n",
              "      <td>2</td>\n",
              "      <td>0</td>\n",
              "      <td>0</td>\n",
              "      <td>93826.63</td>\n",
              "      <td>0</td>\n",
              "      <td>0</td>\n",
              "      <td>[1, 0, 0]</td>\n",
              "    </tr>\n",
              "    <tr>\n",
              "      <th>4</th>\n",
              "      <td>5</td>\n",
              "      <td>15737888</td>\n",
              "      <td>Mitchell</td>\n",
              "      <td>850</td>\n",
              "      <td>Spain</td>\n",
              "      <td>Female</td>\n",
              "      <td>43</td>\n",
              "      <td>2</td>\n",
              "      <td>125510.82</td>\n",
              "      <td>1</td>\n",
              "      <td>1</td>\n",
              "      <td>1</td>\n",
              "      <td>79084.10</td>\n",
              "      <td>0</td>\n",
              "      <td>0</td>\n",
              "      <td>[0, 1, 0]</td>\n",
              "    </tr>\n",
              "    <tr>\n",
              "      <th>...</th>\n",
              "      <td>...</td>\n",
              "      <td>...</td>\n",
              "      <td>...</td>\n",
              "      <td>...</td>\n",
              "      <td>...</td>\n",
              "      <td>...</td>\n",
              "      <td>...</td>\n",
              "      <td>...</td>\n",
              "      <td>...</td>\n",
              "      <td>...</td>\n",
              "      <td>...</td>\n",
              "      <td>...</td>\n",
              "      <td>...</td>\n",
              "      <td>...</td>\n",
              "      <td>...</td>\n",
              "      <td>...</td>\n",
              "    </tr>\n",
              "    <tr>\n",
              "      <th>9995</th>\n",
              "      <td>9996</td>\n",
              "      <td>15606229</td>\n",
              "      <td>Obijiaku</td>\n",
              "      <td>771</td>\n",
              "      <td>France</td>\n",
              "      <td>Male</td>\n",
              "      <td>39</td>\n",
              "      <td>5</td>\n",
              "      <td>0.00</td>\n",
              "      <td>2</td>\n",
              "      <td>1</td>\n",
              "      <td>0</td>\n",
              "      <td>96270.64</td>\n",
              "      <td>0</td>\n",
              "      <td>1</td>\n",
              "      <td>[1, 0, 0]</td>\n",
              "    </tr>\n",
              "    <tr>\n",
              "      <th>9996</th>\n",
              "      <td>9997</td>\n",
              "      <td>15569892</td>\n",
              "      <td>Johnstone</td>\n",
              "      <td>516</td>\n",
              "      <td>France</td>\n",
              "      <td>Male</td>\n",
              "      <td>35</td>\n",
              "      <td>10</td>\n",
              "      <td>57369.61</td>\n",
              "      <td>1</td>\n",
              "      <td>1</td>\n",
              "      <td>1</td>\n",
              "      <td>101699.77</td>\n",
              "      <td>0</td>\n",
              "      <td>1</td>\n",
              "      <td>[1, 0, 0]</td>\n",
              "    </tr>\n",
              "    <tr>\n",
              "      <th>9997</th>\n",
              "      <td>9998</td>\n",
              "      <td>15584532</td>\n",
              "      <td>Liu</td>\n",
              "      <td>709</td>\n",
              "      <td>France</td>\n",
              "      <td>Female</td>\n",
              "      <td>36</td>\n",
              "      <td>7</td>\n",
              "      <td>0.00</td>\n",
              "      <td>1</td>\n",
              "      <td>0</td>\n",
              "      <td>1</td>\n",
              "      <td>42085.58</td>\n",
              "      <td>1</td>\n",
              "      <td>0</td>\n",
              "      <td>[1, 0, 0]</td>\n",
              "    </tr>\n",
              "    <tr>\n",
              "      <th>9998</th>\n",
              "      <td>9999</td>\n",
              "      <td>15682355</td>\n",
              "      <td>Sabbatini</td>\n",
              "      <td>772</td>\n",
              "      <td>Germany</td>\n",
              "      <td>Male</td>\n",
              "      <td>42</td>\n",
              "      <td>3</td>\n",
              "      <td>75075.31</td>\n",
              "      <td>2</td>\n",
              "      <td>1</td>\n",
              "      <td>0</td>\n",
              "      <td>92888.52</td>\n",
              "      <td>1</td>\n",
              "      <td>1</td>\n",
              "      <td>[0, 0, 1]</td>\n",
              "    </tr>\n",
              "    <tr>\n",
              "      <th>9999</th>\n",
              "      <td>10000</td>\n",
              "      <td>15628319</td>\n",
              "      <td>Walker</td>\n",
              "      <td>792</td>\n",
              "      <td>France</td>\n",
              "      <td>Female</td>\n",
              "      <td>28</td>\n",
              "      <td>4</td>\n",
              "      <td>130142.79</td>\n",
              "      <td>1</td>\n",
              "      <td>1</td>\n",
              "      <td>0</td>\n",
              "      <td>38190.78</td>\n",
              "      <td>0</td>\n",
              "      <td>0</td>\n",
              "      <td>[1, 0, 0]</td>\n",
              "    </tr>\n",
              "  </tbody>\n",
              "</table>\n",
              "<p>10000 rows × 16 columns</p>\n",
              "</div>"
            ],
            "text/plain": [
              "      RowNumber  CustomerId    Surname  CreditScore Geography  Gender  Age  \\\n",
              "0             1    15634602   Hargrave          619    France  Female   42   \n",
              "1             2    15647311       Hill          608     Spain  Female   41   \n",
              "2             3    15619304       Onio          502    France  Female   42   \n",
              "3             4    15701354       Boni          699    France  Female   39   \n",
              "4             5    15737888   Mitchell          850     Spain  Female   43   \n",
              "...         ...         ...        ...          ...       ...     ...  ...   \n",
              "9995       9996    15606229   Obijiaku          771    France    Male   39   \n",
              "9996       9997    15569892  Johnstone          516    France    Male   35   \n",
              "9997       9998    15584532        Liu          709    France  Female   36   \n",
              "9998       9999    15682355  Sabbatini          772   Germany    Male   42   \n",
              "9999      10000    15628319     Walker          792    France  Female   28   \n",
              "\n",
              "      Tenure    Balance  NumOfProducts  HasCrCard  IsActiveMember  \\\n",
              "0          2       0.00              1          1               1   \n",
              "1          1   83807.86              1          0               1   \n",
              "2          8  159660.80              3          1               0   \n",
              "3          1       0.00              2          0               0   \n",
              "4          2  125510.82              1          1               1   \n",
              "...      ...        ...            ...        ...             ...   \n",
              "9995       5       0.00              2          1               0   \n",
              "9996      10   57369.61              1          1               1   \n",
              "9997       7       0.00              1          0               1   \n",
              "9998       3   75075.31              2          1               0   \n",
              "9999       4  130142.79              1          1               0   \n",
              "\n",
              "      EstimatedSalary  Exited  Gender_encoded Geography_encoded  \n",
              "0           101348.88       1               0         [1, 0, 0]  \n",
              "1           112542.58       0               0         [0, 1, 0]  \n",
              "2           113931.57       1               0         [1, 0, 0]  \n",
              "3            93826.63       0               0         [1, 0, 0]  \n",
              "4            79084.10       0               0         [0, 1, 0]  \n",
              "...               ...     ...             ...               ...  \n",
              "9995         96270.64       0               1         [1, 0, 0]  \n",
              "9996        101699.77       0               1         [1, 0, 0]  \n",
              "9997         42085.58       1               0         [1, 0, 0]  \n",
              "9998         92888.52       1               1         [0, 0, 1]  \n",
              "9999         38190.78       0               0         [1, 0, 0]  \n",
              "\n",
              "[10000 rows x 16 columns]"
            ]
          },
          "execution_count": 85,
          "metadata": {},
          "output_type": "execute_result"
        }
      ],
      "source": [
        "data[\"Geography_encoded\"] = data[\"Geography\"].apply(one_hot_encode_geography)\n",
        "data"
      ]
    },
    {
      "cell_type": "code",
      "execution_count": null,
      "id": "0a8d458e",
      "metadata": {
        "id": "0a8d458e"
      },
      "outputs": [],
      "source": [
        "label_encoder = LabelEncoder()\n",
        "dataset['Gender'] = label_encoder.fit_transform(dataset['Gender'])"
      ]
    },
    {
      "cell_type": "code",
      "execution_count": null,
      "id": "7417f370",
      "metadata": {
        "id": "7417f370"
      },
      "outputs": [],
      "source": [
        "data['Geography_encoded'] = pd.to_numeric(data['Geography_encoded'], errors='coerce')"
      ]
    },
    {
      "cell_type": "code",
      "execution_count": null,
      "id": "46b81355",
      "metadata": {
        "scrolled": true,
        "id": "46b81355"
      },
      "outputs": [],
      "source": [
        "X = data.drop(columns=['Exited', 'CustomerId', 'Surname', 'Geography','Gender'])\n",
        "y = data['Exited']"
      ]
    },
    {
      "cell_type": "code",
      "execution_count": null,
      "id": "db535168",
      "metadata": {
        "id": "db535168"
      },
      "outputs": [],
      "source": [
        "X_train, X_test, y_train, y_test = train_test_split(X, y, test_size=0.2, random_state=42)"
      ]
    },
    {
      "cell_type": "code",
      "execution_count": null,
      "id": "156b04ed",
      "metadata": {
        "id": "156b04ed"
      },
      "outputs": [],
      "source": [
        "X_train, X_test, y_train, y_test = train_test_split(X, y, test_size=0.2, random_state=42)\n"
      ]
    },
    {
      "cell_type": "code",
      "execution_count": null,
      "id": "8de54536",
      "metadata": {
        "id": "8de54536",
        "outputId": "59d7000b-830d-4ce2-92a7-2056bd84128b"
      },
      "outputs": [
        {
          "name": "stdout",
          "output_type": "stream",
          "text": [
            "\n",
            "Training set:\n",
            "      RowNumber  CreditScore  Age  Tenure    Balance  NumOfProducts  \\\n",
            "9254       9255          686   32       6       0.00              2   \n",
            "1561       1562          632   42       4  119624.60              2   \n",
            "1670       1671          559   24       3  114739.92              1   \n",
            "6087       6088          561   27       9  135637.00              1   \n",
            "6669       6670          517   56       9  142147.32              1   \n",
            "...         ...          ...  ...     ...        ...            ...   \n",
            "5734       5735          768   54       8   69712.74              1   \n",
            "5191       5192          682   58       1       0.00              1   \n",
            "5390       5391          735   38       1       0.00              3   \n",
            "860         861          667   43       8  190227.46              1   \n",
            "7270       7271          697   51       1  147910.30              1   \n",
            "\n",
            "      HasCrCard  IsActiveMember  EstimatedSalary  Gender_encoded  \\\n",
            "9254          1               1        179093.26               1   \n",
            "1561          1               1        195978.86               1   \n",
            "1670          1               0         85891.02               1   \n",
            "6087          1               0        153080.40               0   \n",
            "6669          0               0         39488.04               1   \n",
            "...         ...             ...              ...             ...   \n",
            "5734          1               1         69381.05               1   \n",
            "5191          1               1           706.50               0   \n",
            "5390          0               0         92220.12               0   \n",
            "860           1               0         97508.04               1   \n",
            "7270          1               1         53581.14               1   \n",
            "\n",
            "      Geography_encoded  \n",
            "9254                NaN  \n",
            "1561                NaN  \n",
            "1670                NaN  \n",
            "6087                NaN  \n",
            "6669                NaN  \n",
            "...                 ...  \n",
            "5734                NaN  \n",
            "5191                NaN  \n",
            "5390                NaN  \n",
            "860                 NaN  \n",
            "7270                NaN  \n",
            "\n",
            "[8000 rows x 11 columns]\n"
          ]
        }
      ],
      "source": [
        "print(\"\\nTraining set:\")\n",
        "print(X_train)\n"
      ]
    },
    {
      "cell_type": "code",
      "execution_count": null,
      "id": "f11430ec",
      "metadata": {
        "id": "f11430ec",
        "outputId": "c96bcf3a-5baa-4a6e-bba8-0410bd6db41d"
      },
      "outputs": [
        {
          "name": "stdout",
          "output_type": "stream",
          "text": [
            "\n",
            "Testing set:\n",
            "      RowNumber  CreditScore  Age  Tenure    Balance  NumOfProducts  \\\n",
            "6252       6253          596   32       3   96709.07              2   \n",
            "4684       4685          623   43       1       0.00              2   \n",
            "1731       1732          601   44       4       0.00              2   \n",
            "4742       4743          506   59       8  119152.10              2   \n",
            "4521       4522          560   27       7  124995.98              1   \n",
            "...         ...          ...  ...     ...        ...            ...   \n",
            "6412       6413          602   53       5   98268.84              1   \n",
            "8285       8286          609   25      10       0.00              1   \n",
            "7853       7854          730   47       7       0.00              1   \n",
            "1095       1096          692   29       4       0.00              1   \n",
            "6929       6930          628   39       1  115341.19              1   \n",
            "\n",
            "      HasCrCard  IsActiveMember  EstimatedSalary  Gender_encoded  \\\n",
            "6252          0               0         41788.37               1   \n",
            "4684          1               1        146379.30               1   \n",
            "1731          1               0         58561.31               0   \n",
            "4742          1               1        170679.74               1   \n",
            "4521          1               1        114669.79               0   \n",
            "...         ...             ...              ...             ...   \n",
            "6412          0               1         45038.29               0   \n",
            "8285          0               1        109895.16               1   \n",
            "7853          1               0         33373.26               0   \n",
            "1095          1               0         76755.99               1   \n",
            "6929          1               1        107674.30               1   \n",
            "\n",
            "      Geography_encoded  \n",
            "6252                NaN  \n",
            "4684                NaN  \n",
            "1731                NaN  \n",
            "4742                NaN  \n",
            "4521                NaN  \n",
            "...                 ...  \n",
            "6412                NaN  \n",
            "8285                NaN  \n",
            "7853                NaN  \n",
            "1095                NaN  \n",
            "6929                NaN  \n",
            "\n",
            "[2000 rows x 11 columns]\n"
          ]
        }
      ],
      "source": [
        "print(\"\\nTesting set:\")\n",
        "print(X_test)"
      ]
    },
    {
      "cell_type": "code",
      "execution_count": null,
      "id": "19d3db4f",
      "metadata": {
        "id": "19d3db4f"
      },
      "outputs": [],
      "source": [
        "non_numeric_cols = dataset.select_dtypes(include=['object']).columns\n",
        "X = dataset.drop(columns=non_numeric_cols)\n",
        "y = dataset['Exited']"
      ]
    },
    {
      "cell_type": "code",
      "execution_count": null,
      "id": "ffc4c7e3",
      "metadata": {
        "id": "ffc4c7e3",
        "outputId": "4dba1bad-7ae2-4b01-cf39-766f1807b968"
      },
      "outputs": [
        {
          "name": "stderr",
          "output_type": "stream",
          "text": [
            "C:\\Users\\Idrees Arshad\\anaconda3\\lib\\site-packages\\sklearn\\utils\\extmath.py:985: RuntimeWarning: invalid value encountered in divide\n",
            "  updated_mean = (last_sum + new_sum) / updated_sample_count\n",
            "C:\\Users\\Idrees Arshad\\anaconda3\\lib\\site-packages\\sklearn\\utils\\extmath.py:990: RuntimeWarning: invalid value encountered in divide\n",
            "  T = new_sum / new_sample_count\n",
            "C:\\Users\\Idrees Arshad\\anaconda3\\lib\\site-packages\\sklearn\\utils\\extmath.py:1020: RuntimeWarning: invalid value encountered in divide\n",
            "  new_unnormalized_variance -= correction ** 2 / new_sample_count\n"
          ]
        }
      ],
      "source": [
        "scaler = StandardScaler()\n",
        "X_train = scaler.fit_transform(X_train)\n",
        "X_test = scaler.transform(X_test)"
      ]
    },
    {
      "cell_type": "code",
      "execution_count": null,
      "id": "c584ea9f",
      "metadata": {
        "id": "c584ea9f",
        "outputId": "11b2e20f-543e-4740-fb0d-938bbaa66df2"
      },
      "outputs": [
        {
          "name": "stdout",
          "output_type": "stream",
          "text": [
            "\n",
            "Training set after feature scaling:\n",
            "[[ 1.4692775   0.35649971 -0.6557859  ...  1.36766974  0.91324755\n",
            "          nan]\n",
            " [-1.19499359 -0.20389777  0.29493847 ...  1.6612541   0.91324755\n",
            "          nan]\n",
            " [-1.15724427 -0.96147213 -1.41636539 ... -0.25280688  0.91324755\n",
            "          nan]\n",
            " ...\n",
            " [ 0.13108128  0.86500853 -0.08535128 ... -0.1427649  -1.09499335\n",
            "          nan]\n",
            " [-1.43776677  0.15932282  0.3900109  ... -0.05082558  0.91324755\n",
            "          nan]\n",
            " [ 0.78217054  0.47065475  1.15059039 ... -0.81456811  0.91324755\n",
            "          nan]]\n"
          ]
        }
      ],
      "source": [
        "print(\"\\nTraining set after feature scaling:\")\n",
        "print(X_train)"
      ]
    },
    {
      "cell_type": "code",
      "execution_count": null,
      "id": "973502ae",
      "metadata": {
        "id": "973502ae",
        "outputId": "db81322d-4fa4-4f45-9b0f-b22e208cfc3e"
      },
      "outputs": [
        {
          "name": "stdout",
          "output_type": "stream",
          "text": [
            "\n",
            "Testing set after feature scaling:\n",
            "[[ 0.42961263 -0.57749609 -0.6557859  ... -1.01960511  0.91324755\n",
            "          nan]\n",
            " [-0.11342351 -0.29729735  0.3900109  ...  0.79888291  0.91324755\n",
            "          nan]\n",
            " [-1.1361185  -0.52560743  0.48508334 ... -0.72797953 -1.09499335\n",
            "          nan]\n",
            " ...\n",
            " [ 0.98407747  0.81311987  0.77030065 ... -1.16591585 -1.09499335\n",
            "          nan]\n",
            " [-1.35638061  0.41876609 -0.94100321 ... -0.41163463  0.91324755\n",
            "          nan]\n",
            " [ 0.66407403 -0.24540869  0.00972116 ...  0.12593183  0.91324755\n",
            "          nan]]\n"
          ]
        }
      ],
      "source": [
        "print(\"\\nTesting set after feature scaling:\")\n",
        "print(X_test)"
      ]
    },
    {
      "cell_type": "code",
      "execution_count": null,
      "id": "9e68053c",
      "metadata": {
        "id": "9e68053c"
      },
      "outputs": [],
      "source": [
        "model = Sequential()\n",
        "model.add(Dense(units=6, activation='relu', input_dim=X_train.shape[1]))\n",
        "model.add(Dense(units=6, activation='relu'))\n",
        "model.add(Dense(units=1, activation='sigmoid'))"
      ]
    },
    {
      "cell_type": "code",
      "execution_count": null,
      "id": "f8b2cafa",
      "metadata": {
        "id": "f8b2cafa"
      },
      "outputs": [],
      "source": [
        "model.compile(optimizer='adam', loss='binary_crossentropy', metrics=['accuracy'])\n"
      ]
    },
    {
      "cell_type": "code",
      "execution_count": null,
      "id": "8eb2bdce",
      "metadata": {
        "scrolled": false,
        "id": "8eb2bdce",
        "outputId": "64bc017e-87d1-415a-ca22-35688628e272"
      },
      "outputs": [
        {
          "name": "stdout",
          "output_type": "stream",
          "text": [
            "Epoch 1/100\n",
            "WARNING:tensorflow:From C:\\Users\\Idrees Arshad\\anaconda3\\lib\\site-packages\\keras\\src\\utils\\tf_utils.py:492: The name tf.ragged.RaggedTensorValue is deprecated. Please use tf.compat.v1.ragged.RaggedTensorValue instead.\n",
            "\n",
            "WARNING:tensorflow:From C:\\Users\\Idrees Arshad\\anaconda3\\lib\\site-packages\\keras\\src\\engine\\base_layer_utils.py:384: The name tf.executing_eagerly_outside_functions is deprecated. Please use tf.compat.v1.executing_eagerly_outside_functions instead.\n",
            "\n",
            "800/800 [==============================] - 14s 2ms/step - loss: 0.6154 - accuracy: 0.7945\n",
            "Epoch 2/100\n",
            "800/800 [==============================] - 2s 2ms/step - loss: 0.5358 - accuracy: 0.7945\n",
            "Epoch 3/100\n",
            "800/800 [==============================] - 2s 2ms/step - loss: 0.5142 - accuracy: 0.7945\n",
            "Epoch 4/100\n",
            "800/800 [==============================] - 2s 2ms/step - loss: 0.5090 - accuracy: 0.7945\n",
            "Epoch 5/100\n",
            "800/800 [==============================] - 2s 2ms/step - loss: 0.5081 - accuracy: 0.7945\n",
            "Epoch 6/100\n",
            "800/800 [==============================] - 2s 2ms/step - loss: 0.5080 - accuracy: 0.7945\n",
            "Epoch 7/100\n",
            "800/800 [==============================] - 2s 2ms/step - loss: 0.5080 - accuracy: 0.7945\n",
            "Epoch 8/100\n",
            "800/800 [==============================] - 2s 2ms/step - loss: 0.5080 - accuracy: 0.7945\n",
            "Epoch 9/100\n",
            "800/800 [==============================] - 2s 2ms/step - loss: 0.5080 - accuracy: 0.7945\n",
            "Epoch 10/100\n",
            "800/800 [==============================] - 2s 2ms/step - loss: 0.5080 - accuracy: 0.7945\n",
            "Epoch 11/100\n",
            "800/800 [==============================] - 2s 2ms/step - loss: 0.5080 - accuracy: 0.7945\n",
            "Epoch 12/100\n",
            "800/800 [==============================] - 2s 2ms/step - loss: 0.5080 - accuracy: 0.7945\n",
            "Epoch 13/100\n",
            "800/800 [==============================] - 2s 2ms/step - loss: 0.5080 - accuracy: 0.7945\n",
            "Epoch 14/100\n",
            "800/800 [==============================] - 2s 2ms/step - loss: 0.5080 - accuracy: 0.7945\n",
            "Epoch 15/100\n",
            "800/800 [==============================] - 2s 2ms/step - loss: 0.5080 - accuracy: 0.7945\n",
            "Epoch 16/100\n",
            "800/800 [==============================] - 2s 2ms/step - loss: 0.5080 - accuracy: 0.7945\n",
            "Epoch 17/100\n",
            "800/800 [==============================] - 2s 2ms/step - loss: 0.5080 - accuracy: 0.7945\n",
            "Epoch 18/100\n",
            "800/800 [==============================] - 2s 2ms/step - loss: 0.5080 - accuracy: 0.7945\n",
            "Epoch 19/100\n",
            "800/800 [==============================] - 2s 2ms/step - loss: 0.5080 - accuracy: 0.7945\n",
            "Epoch 20/100\n",
            "800/800 [==============================] - 1s 2ms/step - loss: 0.5080 - accuracy: 0.7945\n",
            "Epoch 21/100\n",
            "800/800 [==============================] - 1s 2ms/step - loss: 0.5080 - accuracy: 0.7945\n",
            "Epoch 22/100\n",
            "800/800 [==============================] - 1s 2ms/step - loss: 0.5080 - accuracy: 0.7945\n",
            "Epoch 23/100\n",
            "800/800 [==============================] - 2s 2ms/step - loss: 0.5080 - accuracy: 0.7945\n",
            "Epoch 24/100\n",
            "800/800 [==============================] - 2s 2ms/step - loss: 0.5080 - accuracy: 0.7945\n",
            "Epoch 25/100\n",
            "800/800 [==============================] - 2s 2ms/step - loss: 0.5080 - accuracy: 0.7945\n",
            "Epoch 26/100\n",
            "800/800 [==============================] - 2s 2ms/step - loss: 0.5080 - accuracy: 0.7945\n",
            "Epoch 27/100\n",
            "800/800 [==============================] - 2s 2ms/step - loss: 0.5080 - accuracy: 0.7945\n",
            "Epoch 28/100\n",
            "800/800 [==============================] - 1s 2ms/step - loss: 0.5080 - accuracy: 0.7945\n",
            "Epoch 29/100\n",
            "800/800 [==============================] - 2s 2ms/step - loss: 0.5080 - accuracy: 0.7945\n",
            "Epoch 30/100\n",
            "800/800 [==============================] - 2s 2ms/step - loss: 0.5080 - accuracy: 0.7945\n",
            "Epoch 31/100\n",
            "800/800 [==============================] - 2s 2ms/step - loss: 0.5080 - accuracy: 0.7945\n",
            "Epoch 32/100\n",
            "800/800 [==============================] - 2s 2ms/step - loss: 0.5080 - accuracy: 0.7945\n",
            "Epoch 33/100\n",
            "800/800 [==============================] - 2s 2ms/step - loss: 0.5080 - accuracy: 0.7945\n",
            "Epoch 34/100\n",
            "800/800 [==============================] - 2s 2ms/step - loss: 0.5080 - accuracy: 0.7945\n",
            "Epoch 35/100\n",
            "800/800 [==============================] - 1s 2ms/step - loss: 0.5080 - accuracy: 0.7945\n",
            "Epoch 36/100\n",
            "800/800 [==============================] - 2s 2ms/step - loss: 0.5080 - accuracy: 0.7945\n",
            "Epoch 37/100\n",
            "800/800 [==============================] - 1s 2ms/step - loss: 0.5080 - accuracy: 0.7945\n",
            "Epoch 38/100\n",
            "800/800 [==============================] - 2s 3ms/step - loss: 0.5080 - accuracy: 0.7945\n",
            "Epoch 39/100\n",
            "800/800 [==============================] - 2s 2ms/step - loss: 0.5080 - accuracy: 0.7945\n",
            "Epoch 40/100\n",
            "800/800 [==============================] - 2s 2ms/step - loss: 0.5080 - accuracy: 0.7945\n",
            "Epoch 41/100\n",
            "800/800 [==============================] - 2s 2ms/step - loss: 0.5080 - accuracy: 0.7945\n",
            "Epoch 42/100\n",
            "800/800 [==============================] - 2s 2ms/step - loss: 0.5080 - accuracy: 0.7945\n",
            "Epoch 43/100\n",
            "800/800 [==============================] - 2s 2ms/step - loss: 0.5080 - accuracy: 0.7945\n",
            "Epoch 44/100\n",
            "800/800 [==============================] - 2s 2ms/step - loss: 0.5080 - accuracy: 0.7945\n",
            "Epoch 45/100\n",
            "800/800 [==============================] - 2s 2ms/step - loss: 0.5080 - accuracy: 0.7945\n",
            "Epoch 46/100\n",
            "800/800 [==============================] - 2s 2ms/step - loss: 0.5080 - accuracy: 0.7945\n",
            "Epoch 47/100\n",
            "800/800 [==============================] - 2s 2ms/step - loss: 0.5080 - accuracy: 0.7945\n",
            "Epoch 48/100\n",
            "800/800 [==============================] - 2s 2ms/step - loss: 0.5080 - accuracy: 0.7945\n",
            "Epoch 49/100\n",
            "800/800 [==============================] - 2s 2ms/step - loss: 0.5080 - accuracy: 0.7945\n",
            "Epoch 50/100\n",
            "800/800 [==============================] - 2s 2ms/step - loss: 0.5080 - accuracy: 0.7945\n",
            "Epoch 51/100\n",
            "800/800 [==============================] - 2s 2ms/step - loss: 0.5080 - accuracy: 0.7945\n",
            "Epoch 52/100\n",
            "800/800 [==============================] - 2s 2ms/step - loss: 0.5080 - accuracy: 0.7945\n",
            "Epoch 53/100\n",
            "800/800 [==============================] - 1s 2ms/step - loss: 0.5080 - accuracy: 0.7945\n",
            "Epoch 54/100\n",
            "800/800 [==============================] - 2s 2ms/step - loss: 0.5080 - accuracy: 0.7945\n",
            "Epoch 55/100\n",
            "800/800 [==============================] - 2s 2ms/step - loss: 0.5080 - accuracy: 0.7945\n",
            "Epoch 56/100\n",
            "800/800 [==============================] - 1s 2ms/step - loss: 0.5080 - accuracy: 0.7945\n",
            "Epoch 57/100\n",
            "800/800 [==============================] - 1s 2ms/step - loss: 0.5080 - accuracy: 0.7945\n",
            "Epoch 58/100\n",
            "800/800 [==============================] - 2s 3ms/step - loss: 0.5080 - accuracy: 0.7945\n",
            "Epoch 59/100\n",
            "800/800 [==============================] - 2s 3ms/step - loss: 0.5080 - accuracy: 0.7945\n",
            "Epoch 60/100\n",
            "800/800 [==============================] - 2s 2ms/step - loss: 0.5080 - accuracy: 0.7945\n",
            "Epoch 61/100\n",
            "800/800 [==============================] - 1s 2ms/step - loss: 0.5080 - accuracy: 0.7945\n",
            "Epoch 62/100\n",
            "800/800 [==============================] - 2s 2ms/step - loss: 0.5080 - accuracy: 0.7945\n",
            "Epoch 63/100\n",
            "800/800 [==============================] - 2s 2ms/step - loss: 0.5080 - accuracy: 0.7945\n",
            "Epoch 64/100\n",
            "800/800 [==============================] - 2s 2ms/step - loss: 0.5080 - accuracy: 0.7945\n",
            "Epoch 65/100\n",
            "800/800 [==============================] - 1s 2ms/step - loss: 0.5080 - accuracy: 0.7945\n",
            "Epoch 66/100\n",
            "800/800 [==============================] - 2s 2ms/step - loss: 0.5080 - accuracy: 0.7945\n",
            "Epoch 67/100\n",
            "800/800 [==============================] - 1s 2ms/step - loss: 0.5080 - accuracy: 0.7945\n",
            "Epoch 68/100\n",
            "800/800 [==============================] - 2s 2ms/step - loss: 0.5080 - accuracy: 0.7945\n",
            "Epoch 69/100\n",
            "800/800 [==============================] - 2s 2ms/step - loss: 0.5080 - accuracy: 0.7945\n",
            "Epoch 70/100\n",
            "800/800 [==============================] - 2s 2ms/step - loss: 0.5080 - accuracy: 0.7945\n",
            "Epoch 71/100\n",
            "800/800 [==============================] - 2s 2ms/step - loss: 0.5080 - accuracy: 0.7945\n",
            "Epoch 72/100\n",
            "800/800 [==============================] - 1s 2ms/step - loss: 0.5080 - accuracy: 0.7945\n",
            "Epoch 73/100\n",
            "800/800 [==============================] - 1s 2ms/step - loss: 0.5080 - accuracy: 0.7945\n",
            "Epoch 74/100\n",
            "800/800 [==============================] - 1s 2ms/step - loss: 0.5080 - accuracy: 0.7945\n",
            "Epoch 75/100\n",
            "800/800 [==============================] - 2s 2ms/step - loss: 0.5080 - accuracy: 0.7945\n",
            "Epoch 76/100\n",
            "800/800 [==============================] - 2s 2ms/step - loss: 0.5080 - accuracy: 0.7945\n",
            "Epoch 77/100\n",
            "800/800 [==============================] - 2s 2ms/step - loss: 0.5080 - accuracy: 0.7945\n",
            "Epoch 78/100\n",
            "800/800 [==============================] - 2s 2ms/step - loss: 0.5080 - accuracy: 0.7945\n",
            "Epoch 79/100\n",
            "800/800 [==============================] - 1s 2ms/step - loss: 0.5080 - accuracy: 0.7945\n",
            "Epoch 80/100\n",
            "800/800 [==============================] - 2s 3ms/step - loss: 0.5080 - accuracy: 0.7945\n",
            "Epoch 81/100\n",
            "800/800 [==============================] - 2s 2ms/step - loss: 0.5080 - accuracy: 0.7945\n",
            "Epoch 82/100\n",
            "800/800 [==============================] - 2s 2ms/step - loss: 0.5080 - accuracy: 0.7945\n",
            "Epoch 83/100\n",
            "800/800 [==============================] - 2s 2ms/step - loss: 0.5080 - accuracy: 0.7945\n",
            "Epoch 84/100\n",
            "800/800 [==============================] - 2s 2ms/step - loss: 0.5080 - accuracy: 0.7945\n",
            "Epoch 85/100\n",
            "800/800 [==============================] - 2s 2ms/step - loss: 0.5080 - accuracy: 0.7945\n",
            "Epoch 86/100\n",
            "800/800 [==============================] - 2s 2ms/step - loss: 0.5080 - accuracy: 0.7945\n",
            "Epoch 87/100\n",
            "800/800 [==============================] - 2s 2ms/step - loss: 0.5080 - accuracy: 0.7945\n",
            "Epoch 88/100\n",
            "800/800 [==============================] - 2s 2ms/step - loss: 0.5080 - accuracy: 0.7945\n",
            "Epoch 89/100\n",
            "800/800 [==============================] - 2s 2ms/step - loss: 0.5080 - accuracy: 0.7945\n",
            "Epoch 90/100\n",
            "800/800 [==============================] - 2s 2ms/step - loss: 0.5080 - accuracy: 0.7945\n",
            "Epoch 91/100\n",
            "800/800 [==============================] - 2s 3ms/step - loss: 0.5080 - accuracy: 0.7945\n",
            "Epoch 92/100\n",
            "800/800 [==============================] - 2s 3ms/step - loss: 0.5080 - accuracy: 0.7945\n",
            "Epoch 93/100\n",
            "800/800 [==============================] - 2s 2ms/step - loss: 0.5080 - accuracy: 0.7945\n",
            "Epoch 94/100\n",
            "800/800 [==============================] - 2s 2ms/step - loss: 0.5080 - accuracy: 0.7945\n",
            "Epoch 95/100\n",
            "800/800 [==============================] - 2s 2ms/step - loss: 0.5080 - accuracy: 0.7945\n",
            "Epoch 96/100\n",
            "800/800 [==============================] - 2s 2ms/step - loss: 0.5080 - accuracy: 0.7945\n",
            "Epoch 97/100\n",
            "800/800 [==============================] - 2s 2ms/step - loss: 0.5080 - accuracy: 0.7945\n",
            "Epoch 98/100\n",
            "800/800 [==============================] - 2s 2ms/step - loss: 0.5080 - accuracy: 0.7945\n",
            "Epoch 99/100\n",
            "800/800 [==============================] - 2s 2ms/step - loss: 0.5080 - accuracy: 0.7945\n",
            "Epoch 100/100\n",
            "800/800 [==============================] - 2s 2ms/step - loss: 0.5080 - accuracy: 0.7945\n"
          ]
        },
        {
          "data": {
            "text/plain": [
              "<keras.src.callbacks.History at 0x208d466aee0>"
            ]
          },
          "execution_count": 98,
          "metadata": {},
          "output_type": "execute_result"
        }
      ],
      "source": [
        "model.fit(X_train, y_train, batch_size=10, epochs=100)\n",
        "\n"
      ]
    },
    {
      "cell_type": "code",
      "execution_count": null,
      "id": "c6195514",
      "metadata": {
        "id": "c6195514",
        "outputId": "8c0a8c20-4980-4dfe-842f-0737dd75ffe2"
      },
      "outputs": [
        {
          "name": "stdout",
          "output_type": "stream",
          "text": [
            "63/63 [==============================] - 2s 6ms/step\n"
          ]
        }
      ],
      "source": [
        "y_pred = model.predict(X_test)\n",
        "y_pred = (y_pred > 0.5)"
      ]
    },
    {
      "cell_type": "code",
      "execution_count": null,
      "id": "c70310cd",
      "metadata": {
        "id": "c70310cd",
        "outputId": "95cd06bb-387a-4e9b-f735-72661ea0acf3"
      },
      "outputs": [
        {
          "name": "stdout",
          "output_type": "stream",
          "text": [
            "Confusion Matrix:\n",
            "[[1607    0]\n",
            " [ 393    0]]\n"
          ]
        }
      ],
      "source": [
        "cm = confusion_matrix(y_test, y_pred)\n",
        "print(\"Confusion Matrix:\")\n",
        "print(cm)"
      ]
    },
    {
      "cell_type": "code",
      "execution_count": null,
      "id": "cbe8a69a",
      "metadata": {
        "id": "cbe8a69a",
        "outputId": "f8c373a8-8542-4f6b-ca8e-f66ef39806b3"
      },
      "outputs": [
        {
          "name": "stdout",
          "output_type": "stream",
          "text": [
            "Accuracy: 80.35%\n"
          ]
        }
      ],
      "source": [
        "accuracy = np.sum(y_test.values.reshape(-1, 1) == y_pred) / len(y_test)\n",
        "print(\"Accuracy: {:.2f}%\".format(accuracy * 100))"
      ]
    },
    {
      "cell_type": "code",
      "execution_count": null,
      "id": "b4d44094",
      "metadata": {
        "id": "b4d44094",
        "outputId": "ea542647-237b-4767-9467-cfeeb4acd263"
      },
      "outputs": [
        {
          "name": "stdout",
          "output_type": "stream",
          "text": [
            "1/1 [==============================] - 0s 29ms/step\n"
          ]
        },
        {
          "name": "stderr",
          "output_type": "stream",
          "text": [
            "C:\\Users\\Idrees Arshad\\anaconda3\\lib\\site-packages\\sklearn\\base.py:450: UserWarning: X does not have valid feature names, but StandardScaler was fitted with feature names\n",
            "  warnings.warn(\n"
          ]
        },
        {
          "name": "stdout",
          "output_type": "stream",
          "text": [
            "Prediction for the new customer: [[0.20682807]]\n"
          ]
        }
      ],
      "source": [
        "new_prediction = model.predict(scaler.transform(np.array([[1, 0, 0, 600, 1, 40, 3, 60000, 2, 1, 50000]])))\n",
        "print(\"Prediction for the new customer:\", new_prediction)"
      ]
    },
    {
      "cell_type": "code",
      "execution_count": null,
      "id": "99e43313",
      "metadata": {
        "id": "99e43313",
        "outputId": "1fc7881f-df2f-4795-8335-803f5c5b1aed"
      },
      "outputs": [
        {
          "name": "stdout",
          "output_type": "stream",
          "text": [
            "The customer will stay in the bank.\n"
          ]
        }
      ],
      "source": [
        "if new_prediction > 0.5:\n",
        "    print(\"The customer will leave the bank.\")\n",
        "else:\n",
        "    print(\"The customer will stay in the bank.\")"
      ]
    },
    {
      "cell_type": "code",
      "execution_count": null,
      "id": "c0cc7c36",
      "metadata": {
        "id": "c0cc7c36"
      },
      "outputs": [],
      "source": [
        "from keras.preprocessing.image import ImageDataGenerator"
      ]
    },
    {
      "cell_type": "code",
      "execution_count": null,
      "id": "0291fee1",
      "metadata": {
        "id": "0291fee1"
      },
      "outputs": [],
      "source": [
        "train_datagen = ImageDataGenerator(rescale = 1./255,\n",
        "                                   shear_range = 0.2,\n",
        "                                   zoom_range = 0.2,\n",
        "                                   horizontal_flip = True)"
      ]
    },
    {
      "cell_type": "code",
      "execution_count": null,
      "id": "008d6629",
      "metadata": {
        "id": "008d6629",
        "outputId": "423f643a-e193-46a8-ab1a-1f1d5f3469f3"
      },
      "outputs": [
        {
          "name": "stdout",
          "output_type": "stream",
          "text": [
            "Found 8000 images belonging to 2 classes.\n"
          ]
        }
      ],
      "source": [
        "training_set = train_datagen.flow_from_directory('Desktop/dataset/dataset/training_set',\n",
        "                                                 target_size = (64, 64),\n",
        "                                                 batch_size = 32,\n",
        "                                                 class_mode = 'binary')\n"
      ]
    },
    {
      "cell_type": "code",
      "execution_count": null,
      "id": "614d39f5",
      "metadata": {
        "id": "614d39f5"
      },
      "outputs": [],
      "source": [
        "test_datagen = ImageDataGenerator(rescale = 1./255)\n"
      ]
    },
    {
      "cell_type": "code",
      "execution_count": null,
      "id": "7723a471",
      "metadata": {
        "id": "7723a471",
        "outputId": "6ceaa8e4-3acc-4aaa-a7b7-773e318adc2d"
      },
      "outputs": [
        {
          "name": "stdout",
          "output_type": "stream",
          "text": [
            "Found 2000 images belonging to 2 classes.\n"
          ]
        }
      ],
      "source": [
        "test_set = test_datagen.flow_from_directory('Desktop/dataset/dataset/test_set',\n",
        "                                            target_size = (64, 64),\n",
        "                                            batch_size = 32,\n",
        "                                            class_mode = 'binary')\n"
      ]
    },
    {
      "cell_type": "code",
      "execution_count": null,
      "id": "d73739ab",
      "metadata": {
        "id": "d73739ab"
      },
      "outputs": [],
      "source": [
        "from keras.layers import Conv2D, MaxPooling2D, Flatten\n"
      ]
    },
    {
      "cell_type": "code",
      "execution_count": null,
      "id": "a34490e7",
      "metadata": {
        "id": "a34490e7"
      },
      "outputs": [],
      "source": [
        "cnn = Sequential()"
      ]
    },
    {
      "cell_type": "code",
      "execution_count": null,
      "id": "d7833665",
      "metadata": {
        "id": "d7833665"
      },
      "outputs": [],
      "source": [
        "cnn.add(Conv2D(32, (3, 3), input_shape = (64, 64, 3), activation = 'relu'))\n"
      ]
    },
    {
      "cell_type": "code",
      "execution_count": null,
      "id": "34ddaf87",
      "metadata": {
        "id": "34ddaf87",
        "outputId": "6af32733-5b0b-457d-be92-1495e274efd5"
      },
      "outputs": [
        {
          "name": "stdout",
          "output_type": "stream",
          "text": [
            "WARNING:tensorflow:From C:\\Users\\Idrees Arshad\\anaconda3\\lib\\site-packages\\keras\\src\\layers\\pooling\\max_pooling2d.py:161: The name tf.nn.max_pool is deprecated. Please use tf.nn.max_pool2d instead.\n",
            "\n"
          ]
        }
      ],
      "source": [
        "cnn.add(MaxPooling2D(pool_size = (2, 2)))\n"
      ]
    },
    {
      "cell_type": "code",
      "execution_count": null,
      "id": "e0c21a7c",
      "metadata": {
        "id": "e0c21a7c"
      },
      "outputs": [],
      "source": [
        "cnn.add(Conv2D(32, (3, 3), activation = 'relu'))\n",
        "cnn.add(MaxPooling2D(pool_size = (2, 2)))\n"
      ]
    },
    {
      "cell_type": "code",
      "execution_count": null,
      "id": "0f447d8f",
      "metadata": {
        "id": "0f447d8f"
      },
      "outputs": [],
      "source": [
        "cnn.add(Flatten())"
      ]
    },
    {
      "cell_type": "code",
      "execution_count": null,
      "id": "b84d4ff7",
      "metadata": {
        "id": "b84d4ff7"
      },
      "outputs": [],
      "source": [
        "cnn.add(Dense(units = 128, activation = 'relu'))"
      ]
    },
    {
      "cell_type": "code",
      "execution_count": null,
      "id": "b3cc6cf6",
      "metadata": {
        "id": "b3cc6cf6"
      },
      "outputs": [],
      "source": [
        "cnn.add(Dense(units = 1, activation = 'sigmoid'))\n"
      ]
    },
    {
      "cell_type": "code",
      "execution_count": null,
      "id": "5f8d7e3f",
      "metadata": {
        "id": "5f8d7e3f"
      },
      "outputs": [],
      "source": [
        "cnn.compile(optimizer = 'adam', loss = 'binary_crossentropy', metrics = ['accuracy'])\n"
      ]
    },
    {
      "cell_type": "code",
      "execution_count": null,
      "id": "1776ff9d",
      "metadata": {
        "id": "1776ff9d",
        "outputId": "f4ac62e5-b148-4ebc-d0a9-5e99200d366e"
      },
      "outputs": [
        {
          "name": "stdout",
          "output_type": "stream",
          "text": [
            "Epoch 1/25\n",
            "250/250 [==============================] - 69s 229ms/step - loss: 0.6654 - accuracy: 0.5972 - val_loss: 0.6388 - val_accuracy: 0.6405\n",
            "Epoch 2/25\n",
            "250/250 [==============================] - 96s 385ms/step - loss: 0.6077 - accuracy: 0.6725 - val_loss: 0.5659 - val_accuracy: 0.7080\n",
            "Epoch 3/25\n",
            "250/250 [==============================] - 49s 197ms/step - loss: 0.5554 - accuracy: 0.7196 - val_loss: 0.5245 - val_accuracy: 0.7435\n",
            "Epoch 4/25\n",
            "250/250 [==============================] - 49s 195ms/step - loss: 0.5276 - accuracy: 0.7336 - val_loss: 0.5197 - val_accuracy: 0.7535\n",
            "Epoch 5/25\n",
            "250/250 [==============================] - 49s 197ms/step - loss: 0.5020 - accuracy: 0.7544 - val_loss: 0.4883 - val_accuracy: 0.7655\n",
            "Epoch 6/25\n",
            "250/250 [==============================] - 50s 199ms/step - loss: 0.4780 - accuracy: 0.7710 - val_loss: 0.4748 - val_accuracy: 0.7810\n",
            "Epoch 7/25\n",
            "250/250 [==============================] - 50s 201ms/step - loss: 0.4640 - accuracy: 0.7793 - val_loss: 0.4766 - val_accuracy: 0.7825\n",
            "Epoch 8/25\n",
            "250/250 [==============================] - 50s 199ms/step - loss: 0.4553 - accuracy: 0.7786 - val_loss: 0.4818 - val_accuracy: 0.7665\n",
            "Epoch 9/25\n",
            "250/250 [==============================] - 50s 199ms/step - loss: 0.4340 - accuracy: 0.7949 - val_loss: 0.4703 - val_accuracy: 0.7840\n",
            "Epoch 10/25\n",
            "250/250 [==============================] - 50s 201ms/step - loss: 0.4288 - accuracy: 0.8014 - val_loss: 0.5670 - val_accuracy: 0.7385\n",
            "Epoch 11/25\n",
            "250/250 [==============================] - 49s 197ms/step - loss: 0.4155 - accuracy: 0.8056 - val_loss: 0.4526 - val_accuracy: 0.7925\n",
            "Epoch 12/25\n",
            "250/250 [==============================] - 49s 198ms/step - loss: 0.4033 - accuracy: 0.8124 - val_loss: 0.4483 - val_accuracy: 0.7990\n",
            "Epoch 13/25\n",
            "250/250 [==============================] - 57s 229ms/step - loss: 0.3878 - accuracy: 0.8254 - val_loss: 0.5080 - val_accuracy: 0.7740\n",
            "Epoch 14/25\n",
            "250/250 [==============================] - 54s 215ms/step - loss: 0.3752 - accuracy: 0.8289 - val_loss: 0.4402 - val_accuracy: 0.8045\n",
            "Epoch 15/25\n",
            "250/250 [==============================] - 56s 226ms/step - loss: 0.3582 - accuracy: 0.8421 - val_loss: 0.4793 - val_accuracy: 0.7915\n",
            "Epoch 16/25\n",
            "250/250 [==============================] - 57s 226ms/step - loss: 0.3439 - accuracy: 0.8435 - val_loss: 0.4972 - val_accuracy: 0.7815\n",
            "Epoch 17/25\n",
            "250/250 [==============================] - 165s 662ms/step - loss: 0.3349 - accuracy: 0.8519 - val_loss: 0.4625 - val_accuracy: 0.8095\n",
            "Epoch 18/25\n",
            "250/250 [==============================] - 55s 219ms/step - loss: 0.3184 - accuracy: 0.8610 - val_loss: 0.4532 - val_accuracy: 0.8205\n",
            "Epoch 19/25\n",
            "250/250 [==============================] - 50s 199ms/step - loss: 0.3188 - accuracy: 0.8614 - val_loss: 0.5143 - val_accuracy: 0.7985\n",
            "Epoch 20/25\n",
            "250/250 [==============================] - 50s 200ms/step - loss: 0.3021 - accuracy: 0.8676 - val_loss: 0.4711 - val_accuracy: 0.8085\n",
            "Epoch 21/25\n",
            "250/250 [==============================] - 50s 198ms/step - loss: 0.2954 - accuracy: 0.8769 - val_loss: 0.4876 - val_accuracy: 0.8070\n",
            "Epoch 22/25\n",
            "250/250 [==============================] - 50s 199ms/step - loss: 0.2833 - accuracy: 0.8795 - val_loss: 0.4825 - val_accuracy: 0.8110\n",
            "Epoch 23/25\n",
            "250/250 [==============================] - 50s 200ms/step - loss: 0.2693 - accuracy: 0.8821 - val_loss: 0.4964 - val_accuracy: 0.8035\n",
            "Epoch 24/25\n",
            "250/250 [==============================] - 50s 198ms/step - loss: 0.2645 - accuracy: 0.8899 - val_loss: 0.5223 - val_accuracy: 0.7970\n",
            "Epoch 25/25\n",
            "250/250 [==============================] - 49s 197ms/step - loss: 0.2457 - accuracy: 0.9019 - val_loss: 0.4673 - val_accuracy: 0.8190\n"
          ]
        },
        {
          "data": {
            "text/plain": [
              "<keras.src.callbacks.History at 0x208dabb1b80>"
            ]
          },
          "execution_count": 127,
          "metadata": {},
          "output_type": "execute_result"
        }
      ],
      "source": [
        "cnn.fit(x = training_set, validation_data = test_set, epochs = 25)\n"
      ]
    },
    {
      "cell_type": "code",
      "execution_count": null,
      "id": "30429a94",
      "metadata": {
        "id": "30429a94"
      },
      "outputs": [],
      "source": [
        "from keras.preprocessing import image\n"
      ]
    },
    {
      "cell_type": "code",
      "execution_count": null,
      "id": "9f939294",
      "metadata": {
        "id": "9f939294",
        "outputId": "5ebed5de-16f5-40b5-a60d-4236a31426fa"
      },
      "outputs": [
        {
          "name": "stdout",
          "output_type": "stream",
          "text": [
            "1/1 [==============================] - 0s 34ms/step\n",
            "dog\n"
          ]
        }
      ],
      "source": [
        "test_image = image.load_img('Desktop/dataset/dataset/single_prediction/cat_or_dog_1.jpg', target_size = (64, 64))\n",
        "test_image = image.img_to_array(test_image)\n",
        "test_image = np.expand_dims(test_image, axis = 0)\n",
        "result = cnn.predict(test_image)\n",
        "if result[0][0] == 1:\n",
        "    prediction = 'dog'\n",
        "else:\n",
        "    prediction = 'cat'\n",
        "\n",
        "print(prediction)"
      ]
    },
    {
      "cell_type": "code",
      "execution_count": null,
      "id": "d02adfa6",
      "metadata": {
        "id": "d02adfa6"
      },
      "outputs": [],
      "source": [
        "import nltk\n",
        "from nltk.tokenize import word_tokenize, sent_tokenize\n",
        "from nltk.corpus import stopwords\n",
        "from collections import Counter"
      ]
    },
    {
      "cell_type": "code",
      "execution_count": null,
      "id": "ace7b3eb",
      "metadata": {
        "id": "ace7b3eb",
        "outputId": "3c815e23-17a8-4fd7-e8c4-83767fa16f7f"
      },
      "outputs": [
        {
          "data": {
            "text/html": [
              "<div>\n",
              "<style scoped>\n",
              "    .dataframe tbody tr th:only-of-type {\n",
              "        vertical-align: middle;\n",
              "    }\n",
              "\n",
              "    .dataframe tbody tr th {\n",
              "        vertical-align: top;\n",
              "    }\n",
              "\n",
              "    .dataframe thead th {\n",
              "        text-align: right;\n",
              "    }\n",
              "</style>\n",
              "<table border=\"1\" class=\"dataframe\">\n",
              "  <thead>\n",
              "    <tr style=\"text-align: right;\">\n",
              "      <th></th>\n",
              "      <th>body</th>\n",
              "    </tr>\n",
              "  </thead>\n",
              "  <tbody>\n",
              "    <tr>\n",
              "      <th>0</th>\n",
              "      <td>I joined a new league this year and they have ...</td>\n",
              "    </tr>\n",
              "    <tr>\n",
              "      <th>1</th>\n",
              "      <td>In your scenario, a person could just not run ...</td>\n",
              "    </tr>\n",
              "    <tr>\n",
              "      <th>2</th>\n",
              "      <td>They don't get paid for how much time you spen...</td>\n",
              "    </tr>\n",
              "    <tr>\n",
              "      <th>3</th>\n",
              "      <td>I dunno, back before the August update in an A...</td>\n",
              "    </tr>\n",
              "    <tr>\n",
              "      <th>4</th>\n",
              "      <td>No, but Toriyama sometimes would draw himself ...</td>\n",
              "    </tr>\n",
              "  </tbody>\n",
              "</table>\n",
              "</div>"
            ],
            "text/plain": [
              "                                                body\n",
              "0  I joined a new league this year and they have ...\n",
              "1  In your scenario, a person could just not run ...\n",
              "2  They don't get paid for how much time you spen...\n",
              "3  I dunno, back before the August update in an A...\n",
              "4  No, but Toriyama sometimes would draw himself ..."
            ]
          },
          "execution_count": 133,
          "metadata": {},
          "output_type": "execute_result"
        }
      ],
      "source": [
        "data = pd.read_csv(\"reddit-comments-2015-08.csv\")\n",
        "data.head()"
      ]
    },
    {
      "cell_type": "code",
      "execution_count": null,
      "id": "17e3dfae",
      "metadata": {
        "id": "17e3dfae",
        "outputId": "6487d438-8ef4-4788-dfd7-2101b6d897bf"
      },
      "outputs": [
        {
          "name": "stderr",
          "output_type": "stream",
          "text": [
            "[nltk_data] Downloading package punkt to C:\\Users\\Idrees\n",
            "[nltk_data]     Arshad\\AppData\\Roaming\\nltk_data...\n",
            "[nltk_data]   Package punkt is already up-to-date!\n"
          ]
        },
        {
          "data": {
            "text/plain": [
              "True"
            ]
          },
          "execution_count": 134,
          "metadata": {},
          "output_type": "execute_result"
        }
      ],
      "source": [
        "nltk.download('punkt')"
      ]
    },
    {
      "cell_type": "code",
      "execution_count": null,
      "id": "4b13ae79",
      "metadata": {
        "id": "4b13ae79"
      },
      "outputs": [],
      "source": [
        "sentences = [sent_tokenize(comment) for comment in data['body']]\n",
        "tokens = [[word.lower() for word in word_tokenize(' '.join(sentence)) if word.isalpha()] for sentence in sentences]\n",
        "stop_words = set(stopwords.words('english'))\n",
        "tokens = [[word for word in sentence if word not in stop_words] for sentence in tokens]"
      ]
    },
    {
      "cell_type": "code",
      "execution_count": null,
      "id": "8c2015f5",
      "metadata": {
        "id": "8c2015f5",
        "outputId": "22bdd594-95b7-4f0f-8ce9-d5e866dcaaa2"
      },
      "outputs": [
        {
          "name": "stderr",
          "output_type": "stream",
          "text": [
            "[nltk_data] Downloading package stopwords to C:\\Users\\Idrees\n",
            "[nltk_data]     Arshad\\AppData\\Roaming\\nltk_data...\n",
            "[nltk_data]   Package stopwords is already up-to-date!\n"
          ]
        },
        {
          "data": {
            "text/plain": [
              "True"
            ]
          },
          "execution_count": 136,
          "metadata": {},
          "output_type": "execute_result"
        }
      ],
      "source": [
        "nltk.download('stopwords')"
      ]
    },
    {
      "cell_type": "code",
      "execution_count": null,
      "id": "f1846898",
      "metadata": {
        "id": "f1846898"
      },
      "outputs": [],
      "source": [
        "word_counts = {}\n",
        "for sentence in tokens:\n",
        "    for word in sentence:\n",
        "              word_counts[word] = word_counts.get(word, 0) + 1\n",
        "\n",
        "min_word_frequency = 5\n",
        "tokens = [[word for word in sentence if word_counts[word] >= min_word_frequency] for sentence in tokens]"
      ]
    },
    {
      "cell_type": "code",
      "execution_count": null,
      "id": "ad48fcf7",
      "metadata": {
        "id": "ad48fcf7"
      },
      "outputs": [],
      "source": [
        "X_train, X_test = train_test_split(tokens, test_size=0.2, random_state=42)"
      ]
    },
    {
      "cell_type": "code",
      "execution_count": null,
      "id": "e3dac7b9",
      "metadata": {
        "id": "e3dac7b9"
      },
      "outputs": [],
      "source": [
        "word_dim = 100\n",
        "hidden_dim = 50\n",
        "output_dim = 1\n",
        "bptt_truncate = 4"
      ]
    },
    {
      "cell_type": "code",
      "execution_count": null,
      "id": "c1b837f9",
      "metadata": {
        "id": "c1b837f9"
      },
      "outputs": [],
      "source": [
        "U = np.random.uniform(-np.sqrt(1./word_dim), np.sqrt(1./word_dim), (hidden_dim, word_dim))\n",
        "V = np.random.uniform(-np.sqrt(1./hidden_dim), np.sqrt(1./hidden_dim), (output_dim, hidden_dim))\n",
        "W = np.random.uniform(-np.sqrt(1./hidden_dim), np.sqrt(1./hidden_dim), (hidden_dim, hidden_dim))"
      ]
    },
    {
      "cell_type": "code",
      "execution_count": null,
      "id": "459999bd",
      "metadata": {
        "id": "459999bd"
      },
      "outputs": [],
      "source": [
        "def custom_sigmoid(x):\n",
        "    return 1 / (1 + np.exp(-x))\n",
        "\n",
        "def custom_forward_propagation(sentence, U, V):\n",
        "    T = len(sentence)\n",
        "    h = np.zeros((T + 1, hidden_dim))\n",
        "    h[-1] = np.zeros(hidden_dim)\n",
        "    y_hat = np.zeros(T)\n",
        "\n",
        "    for t in range(T):\n",
        "        h[t] = custom_sigmoid(np.dot(U, custom_word_to_vec(sentence[t])))\n",
        "        y_hat[t] = custom_sigmoid(np.dot(V, h[t]))\n",
        "\n",
        "    return y_hat, h"
      ]
    },
    {
      "cell_type": "code",
      "execution_count": null,
      "id": "89400620",
      "metadata": {
        "id": "89400620"
      },
      "outputs": [],
      "source": [
        "custom_word_to_index = {word: index for index, word in enumerate(word_counts.keys())}\n",
        "custom_index_to_word = {index: word for word, index in custom_word_to_index.items()}\n"
      ]
    },
    {
      "cell_type": "code",
      "execution_count": null,
      "id": "b262e3ec",
      "metadata": {
        "id": "b262e3ec"
      },
      "outputs": [],
      "source": [
        "def word_to_vec(word):\n",
        "    return np.random.uniform(-1, 1, (word_dim,))\n",
        "\n",
        "def calculate_loss(y_hat, y_true):\n",
        "    return -np.sum(y_true * np.log(y_hat) + (1 - y_true) * np.log(1 - y_hat))\n"
      ]
    },
    {
      "cell_type": "code",
      "execution_count": null,
      "id": "9f8f0ef8",
      "metadata": {
        "id": "9f8f0ef8",
        "outputId": "d741f238-1b46-42a0-bce9-911bddba1fa6"
      },
      "outputs": [
        {
          "name": "stderr",
          "output_type": "stream",
          "text": [
            "C:\\Users\\Idrees Arshad\\AppData\\Local\\Temp\\ipykernel_27208\\4028197041.py:12: DeprecationWarning: Conversion of an array with ndim > 0 to a scalar is deprecated, and will error in future. Ensure you extract a single element from your array before performing this operation. (Deprecated NumPy 1.25.)\n",
            "  y_hat[t] = custom_sigmoid(np.dot(V, h[t]))\n"
          ]
        }
      ],
      "source": [
        "num_epochs = 10\n",
        "learning_rate = 0.01\n",
        "for epoch in range(num_epochs):\n",
        "    total_loss = 0\n",
        "    for sentence in X_train:\n",
        "        y_hat, h = custom_forward_propagation(sentence,U,V)\n",
        "        y_true = np.zeros(len(sentence))\n",
        "        loss = calculate_loss(y_hat, y_true)\n",
        "        total_loss += loss"
      ]
    },
    {
      "cell_type": "code",
      "execution_count": null,
      "id": "72abf5ea",
      "metadata": {
        "id": "72abf5ea",
        "outputId": "d9db1ab3-cf31-4dbb-fd76-1cb7309dcc3a"
      },
      "outputs": [
        {
          "name": "stdout",
          "output_type": "stream",
          "text": [
            "Epoch 10/10, Loss: 26.548509711452283\n"
          ]
        }
      ],
      "source": [
        " print(f'Epoch {epoch + 1}/{num_epochs}, Loss: {total_loss / len(X_train)}')"
      ]
    },
    {
      "cell_type": "code",
      "execution_count": null,
      "id": "65f026ae",
      "metadata": {
        "id": "65f026ae",
        "outputId": "a38a9669-ebe1-434a-cd0f-424133adbd56"
      },
      "outputs": [
        {
          "name": "stderr",
          "output_type": "stream",
          "text": [
            "C:\\Users\\Idrees Arshad\\AppData\\Local\\Temp\\ipykernel_27208\\4028197041.py:12: DeprecationWarning: Conversion of an array with ndim > 0 to a scalar is deprecated, and will error in future. Ensure you extract a single element from your array before performing this operation. (Deprecated NumPy 1.25.)\n",
            "  y_hat[t] = custom_sigmoid(np.dot(V, h[t]))\n"
          ]
        },
        {
          "name": "stdout",
          "output_type": "stream",
          "text": [
            "Epoch 1/10, Loss: 26.549383433443268, Accuracy: 61.11%\n",
            "Epoch 2/10, Loss: 26.547728884420888, Accuracy: 61.24%\n",
            "Epoch 3/10, Loss: 26.55144571033528, Accuracy: 60.92%\n",
            "Epoch 4/10, Loss: 26.55199323692024, Accuracy: 60.92%\n",
            "Epoch 5/10, Loss: 26.549796182210848, Accuracy: 61.01%\n",
            "Epoch 6/10, Loss: 26.549407150827633, Accuracy: 61.02%\n",
            "Epoch 7/10, Loss: 26.550596527436667, Accuracy: 60.99%\n",
            "Epoch 8/10, Loss: 26.551008596508346, Accuracy: 60.94%\n",
            "Epoch 9/10, Loss: 26.550202561819436, Accuracy: 60.97%\n",
            "Epoch 10/10, Loss: 26.551321162660663, Accuracy: 60.97%\n"
          ]
        }
      ],
      "source": [
        "for epoch in range(num_epochs):\n",
        "    total_loss = 0\n",
        "    correct_predictions = 0\n",
        "    total_predictions = 0\n",
        "\n",
        "    for sentence in X_train:\n",
        "        y_hat, h = custom_forward_propagation(sentence,U,V)\n",
        "        y_true = np.zeros(len(sentence))\n",
        "        predicted_labels = (y_hat > 0.5).astype(int)\n",
        "        correct_predictions += np.sum(predicted_labels == y_true)\n",
        "        total_predictions += len(sentence)\n",
        "        loss = calculate_loss(y_hat, y_true)\n",
        "        total_loss += loss\n",
        "\n",
        "    accuracy = correct_predictions / total_predictions\n",
        "    print(f'Epoch {epoch + 1}/{num_epochs}, Loss: {total_loss / len(X_train)}, Accuracy: {accuracy * 100:.2f}%')"
      ]
    },
    {
      "cell_type": "code",
      "execution_count": null,
      "id": "6678d96d",
      "metadata": {
        "id": "6678d96d"
      },
      "outputs": [],
      "source": []
    }
  ],
  "metadata": {
    "kernelspec": {
      "display_name": "Python 3 (ipykernel)",
      "language": "python",
      "name": "python3"
    },
    "language_info": {
      "codemirror_mode": {
        "name": "ipython",
        "version": 3
      },
      "file_extension": ".py",
      "mimetype": "text/x-python",
      "name": "python",
      "nbconvert_exporter": "python",
      "pygments_lexer": "ipython3",
      "version": "3.9.13"
    },
    "colab": {
      "provenance": []
    }
  },
  "nbformat": 4,
  "nbformat_minor": 5
}